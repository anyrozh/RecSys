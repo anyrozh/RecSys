{
 "cells": [
  {
   "cell_type": "markdown",
   "id": "8c9daa20-4463-4c29-86d7-e8b55a836d6a",
   "metadata": {
    "deletable": false,
    "editable": false,
    "nbgrader": {
     "cell_type": "markdown",
     "checksum": "7b2579ed70a752c84e26fd99e28a38dd",
     "grade": false,
     "grade_id": "cell-11e06e57608fe1f3",
     "locked": true,
     "schema_version": 3,
     "solution": false,
     "task": false
    }
   },
   "source": [
    "# Проект по курсу \"Рекомендательные системы\"\n",
    "\n",
    "## \"Дружеское пари\". Класс моделей: матричные факторизации\n",
    "  \n",
    "Правила заполнения ноутбуков на авто-проверку:\n",
    "- повторить окружение преподавателя\n",
    "```bash\n",
    "pip install implicit==0.7.2 requests==2.32.3 rectools[lightfm]==0.12.0 pandas==2.2.3 numpy==1.26.4 scipy==1.12.0\n",
    "```\n",
    "- не добавлять новые импорты и не использовать дополнительные библиотеки. В противном случае ноутбук не пройдёт проверку и получит `0` баллов\n",
    "- писать код только в ячейках с пометкой # YOUR CODE HERE, сразу после этой пометки\n",
    "- не менять код преподавателя\n",
    "- не добавлять новые ячейки\n",
    "- следить, чтобы не было warning - они автоматом фейлят задание\n",
    "- перед сдачей проверить, что весь ноутбук прогонятся от начала до конца и все тесты проходят\n",
    "\n",
    "**В данном проекте вам нужно будет подбирать гипер-параметры моделей. Писать код для подбора гипер-параметров, использовать optuna и т.п. рекомендуем в отдельном ноутбуке.**\n",
    "\n",
    "**Библиотеки implicit и lightfm не фиксируют random state при num_threads > 1. Если результат работы модели не сильно превышает необходимомый порог и рандом может опустить его ниже требуемого уровня, рекомендуем продолжить повышение качества модели: тюнинг гипер-параметров, подбор фичей, подбор метода обработки датасета**"
   ]
  },
  {
   "cell_type": "markdown",
   "id": "4d49cde7-2156-468a-b3e2-e8467e241cf8",
   "metadata": {
    "deletable": false,
    "editable": false,
    "nbgrader": {
     "cell_type": "markdown",
     "checksum": "32f8a416541b1f30170e4fa36b916dde",
     "grade": false,
     "grade_id": "cell-1891eaa3c13c8609",
     "locked": true,
     "schema_version": 3,
     "solution": false,
     "task": false
    }
   },
   "source": [
    "## Импорты и данные"
   ]
  },
  {
   "cell_type": "code",
   "execution_count": 91,
   "id": "724a1ce6-1a8d-4f7a-95df-17021d831dfc",
   "metadata": {
    "deletable": false,
    "editable": false,
    "nbgrader": {
     "cell_type": "code",
     "checksum": "b5f10ad8df27d096f6b75281123795e3",
     "grade": false,
     "grade_id": "cell-6e865769efae1be6",
     "locked": true,
     "schema_version": 3,
     "solution": false,
     "task": false
    }
   },
   "outputs": [
    {
     "name": "stdout",
     "output_type": "stream",
     "text": [
      "Python 3.11.8\n"
     ]
    }
   ],
   "source": [
    "!python -V"
   ]
  },
  {
   "cell_type": "code",
   "execution_count": 92,
   "id": "61bf0827-0f41-4f85-bd3a-c0c5bc207476",
   "metadata": {},
   "outputs": [
    {
     "name": "stdout",
     "output_type": "stream",
     "text": [
      "Requirement already satisfied: implicit==0.7.2 in /opt/anaconda3/lib/python3.11/site-packages (0.7.2)\n",
      "Requirement already satisfied: requests==2.32.3 in /opt/anaconda3/lib/python3.11/site-packages (2.32.3)\n",
      "Requirement already satisfied: rectools==0.12.0 in /opt/anaconda3/lib/python3.11/site-packages (from rectools[lightfm]==0.12.0) (0.12.0)\n",
      "Requirement already satisfied: pandas==2.2.3 in /opt/anaconda3/lib/python3.11/site-packages (2.2.3)\n",
      "Requirement already satisfied: numpy==1.26.4 in /opt/anaconda3/lib/python3.11/site-packages (1.26.4)\n",
      "Requirement already satisfied: scipy==1.12.0 in /opt/anaconda3/lib/python3.11/site-packages (1.12.0)\n",
      "Requirement already satisfied: tqdm>=4.27 in /opt/anaconda3/lib/python3.11/site-packages (from implicit==0.7.2) (4.67.1)\n",
      "Requirement already satisfied: threadpoolctl in /opt/anaconda3/lib/python3.11/site-packages (from implicit==0.7.2) (2.2.0)\n",
      "Requirement already satisfied: charset-normalizer<4,>=2 in /opt/anaconda3/lib/python3.11/site-packages (from requests==2.32.3) (2.0.4)\n",
      "Requirement already satisfied: idna<4,>=2.5 in /opt/anaconda3/lib/python3.11/site-packages (from requests==2.32.3) (3.4)\n",
      "Requirement already satisfied: urllib3<3,>=1.21.1 in /opt/anaconda3/lib/python3.11/site-packages (from requests==2.32.3) (2.0.7)\n",
      "Requirement already satisfied: certifi>=2017.4.17 in /opt/anaconda3/lib/python3.11/site-packages (from requests==2.32.3) (2025.1.31)\n",
      "Requirement already satisfied: attrs<24.0.0,>=19.1.0 in /opt/anaconda3/lib/python3.11/site-packages (from rectools==0.12.0->rectools[lightfm]==0.12.0) (23.1.0)\n",
      "Requirement already satisfied: pydantic<3.0.0,>=2.8.2 in /opt/anaconda3/lib/python3.11/site-packages (from rectools==0.12.0->rectools[lightfm]==0.12.0) (2.11.3)\n",
      "Requirement already satisfied: pydantic-core<3.0.0,>=2.20.1 in /opt/anaconda3/lib/python3.11/site-packages (from rectools==0.12.0->rectools[lightfm]==0.12.0) (2.33.1)\n",
      "Requirement already satisfied: typeguard<5.0.0,>=4.1.0 in /opt/anaconda3/lib/python3.11/site-packages (from rectools==0.12.0->rectools[lightfm]==0.12.0) (4.4.2)\n",
      "Requirement already satisfied: typing-extensions<5.0.0,>=4.12.2 in /opt/anaconda3/lib/python3.11/site-packages (from rectools==0.12.0->rectools[lightfm]==0.12.0) (4.13.2)\n",
      "Requirement already satisfied: python-dateutil>=2.8.2 in /opt/anaconda3/lib/python3.11/site-packages (from pandas==2.2.3) (2.8.2)\n",
      "Requirement already satisfied: pytz>=2020.1 in /opt/anaconda3/lib/python3.11/site-packages (from pandas==2.2.3) (2023.3.post1)\n",
      "Requirement already satisfied: tzdata>=2022.7 in /opt/anaconda3/lib/python3.11/site-packages (from pandas==2.2.3) (2023.3)\n",
      "Requirement already satisfied: rectools-lightfm<2.0.0,>=1.17.3 in /opt/anaconda3/lib/python3.11/site-packages (from rectools[lightfm]==0.12.0) (1.17.3)\n",
      "Requirement already satisfied: annotated-types>=0.6.0 in /opt/anaconda3/lib/python3.11/site-packages (from pydantic<3.0.0,>=2.8.2->rectools==0.12.0->rectools[lightfm]==0.12.0) (0.7.0)\n",
      "Requirement already satisfied: typing-inspection>=0.4.0 in /opt/anaconda3/lib/python3.11/site-packages (from pydantic<3.0.0,>=2.8.2->rectools==0.12.0->rectools[lightfm]==0.12.0) (0.4.0)\n",
      "Requirement already satisfied: six>=1.5 in /opt/anaconda3/lib/python3.11/site-packages (from python-dateutil>=2.8.2->pandas==2.2.3) (1.16.0)\n",
      "Requirement already satisfied: scikit-learn in /opt/anaconda3/lib/python3.11/site-packages (from rectools-lightfm<2.0.0,>=1.17.3->rectools[lightfm]==0.12.0) (1.2.2)\n",
      "Requirement already satisfied: joblib>=1.1.1 in /opt/anaconda3/lib/python3.11/site-packages (from scikit-learn->rectools-lightfm<2.0.0,>=1.17.3->rectools[lightfm]==0.12.0) (1.2.0)\n",
      "Note: you may need to restart the kernel to use updated packages.\n"
     ]
    }
   ],
   "source": [
    "pip install implicit==0.7.2 requests==2.32.3 rectools[lightfm]==0.12.0 pandas==2.2.3 numpy==1.26.4 scipy==1.12.0"
   ]
  },
  {
   "cell_type": "code",
   "execution_count": 93,
   "id": "b118efea-a833-402f-9048-562d79dcea42",
   "metadata": {
    "deletable": false,
    "editable": false,
    "nbgrader": {
     "cell_type": "code",
     "checksum": "8858b2830f5b34d02195560b9bb98f6a",
     "grade": false,
     "grade_id": "cell-49e3b781726cecc9",
     "locked": true,
     "schema_version": 3,
     "solution": false,
     "task": false
    }
   },
   "outputs": [
    {
     "name": "stdout",
     "output_type": "stream",
     "text": [
      "0.7.2\n",
      "0.12.0\n",
      "2.2.3\n",
      "1.26.4\n",
      "1.12.0\n",
      "2.32.3\n"
     ]
    }
   ],
   "source": [
    "# Убедитесь, что вы не добавляете новые импорты в ноутбук. Решение должно быть ограничено данными библиотеками\n",
    "\n",
    "import warnings\n",
    "warnings.simplefilter(\"ignore\")\n",
    "\n",
    "import implicit\n",
    "import rectools\n",
    "import pandas as pd\n",
    "import numpy as np\n",
    "import scipy\n",
    "import requests\n",
    "\n",
    "print(implicit.__version__)\n",
    "print(rectools.__version__)\n",
    "print(pd.__version__)\n",
    "print(np.__version__)\n",
    "print(scipy.__version__)\n",
    "print(requests.__version__)"
   ]
  },
  {
   "cell_type": "code",
   "execution_count": 94,
   "id": "e3591f25-aedf-42b5-8b65-1f02e51d3020",
   "metadata": {
    "deletable": false,
    "editable": false,
    "nbgrader": {
     "cell_type": "code",
     "checksum": "99545f6b2f4255e58b87acdc3ed7df9b",
     "grade": false,
     "grade_id": "cell-1ebdc35957207757",
     "locked": true,
     "schema_version": 3,
     "solution": false,
     "task": false
    }
   },
   "outputs": [
    {
     "data": {
      "text/plain": [
       "<threadpoolctl.threadpool_limits at 0x16b25d790>"
      ]
     },
     "execution_count": 94,
     "metadata": {},
     "output_type": "execute_result"
    }
   ],
   "source": [
    "import os.path\n",
    "\n",
    "from implicit.als import AlternatingLeastSquares\n",
    "from lightfm import LightFM\n",
    "\n",
    "from rectools import Columns\n",
    "from rectools.metrics import MAP, MeanInvUserFreq\n",
    "from rectools.dataset import Dataset\n",
    "from rectools.models import PureSVDModel, ImplicitALSWrapperModel, LightFMWrapperModel, model_from_config\n",
    "\n",
    "# For implicit ALS\n",
    "import os\n",
    "import threadpoolctl\n",
    "os.environ[\"OPENBLAS_NUM_THREADS\"] = \"1\"\n",
    "threadpoolctl.threadpool_limits(1, \"blas\")"
   ]
  },
  {
   "cell_type": "markdown",
   "id": "0265ea46-e840-452d-b43b-343cbb7eb160",
   "metadata": {
    "deletable": false,
    "editable": false,
    "nbgrader": {
     "cell_type": "markdown",
     "checksum": "c96240918fb63e8058ddc8fefeefeae1",
     "grade": false,
     "grade_id": "cell-42bc3babcb8ca15b",
     "locked": true,
     "schema_version": 3,
     "solution": false,
     "task": false
    }
   },
   "source": [
    "Если у вас нет данных, то используйте закомментированный код"
   ]
  },
  {
   "cell_type": "code",
   "execution_count": 95,
   "id": "f385743a-3642-4152-82bd-e4eca87130bd",
   "metadata": {},
   "outputs": [
    {
     "data": {
      "application/vnd.jupyter.widget-view+json": {
       "model_id": "51006122a12145659f9bf357a49db1e2",
       "version_major": 2,
       "version_minor": 0
      },
      "text/plain": [
       "kion dataset download:   0%|          | 0.00/78.8M [00:00<?, ?iB/s]"
      ]
     },
     "metadata": {},
     "output_type": "display_data"
    }
   ],
   "source": [
    "from tqdm.auto import tqdm\n",
    "import zipfile as zf\n",
    "\n",
    "url = 'https://github.com/irsafilo/KION_DATASET/raw/f69775be31fa5779907cf0a92ddedb70037fb5ae/data_original.zip'\n",
    "\n",
    "req = requests.get(url, stream=True)\n",
    "\n",
    "with open('kion.zip', 'wb') as fd:\n",
    "     total_size_in_bytes = int(req.headers.get('Content-Length', 0))\n",
    "     progress_bar = tqdm(desc='kion dataset download', total=total_size_in_bytes, unit='iB', unit_scale=True)\n",
    "     for chunk in req.iter_content(chunk_size=2 ** 20):\n",
    "         progress_bar.update(len(chunk))\n",
    "         fd.write(chunk)\n",
    "\n",
    "files = zf.ZipFile('kion.zip', 'r')\n",
    "files.extractall()\n",
    "files.close()"
   ]
  },
  {
   "cell_type": "code",
   "execution_count": 96,
   "id": "2b128d75-5970-42c0-b89e-1d48c1688936",
   "metadata": {},
   "outputs": [],
   "source": [
    "data_path = os.environ.get(\"DATA_PATH\")\n",
    "if data_path is None:\n",
    "    data_path = \"data_original\"  # ваш путь к данным до папки data_original включительно (поменяйте при необходимости)"
   ]
  },
  {
   "cell_type": "code",
   "execution_count": 97,
   "id": "2e1b9888-cdc7-47a3-9162-a1ae7de7144e",
   "metadata": {
    "deletable": false,
    "editable": false,
    "nbgrader": {
     "cell_type": "code",
     "checksum": "cd8354f0f9c048aa670d73cb29225df3",
     "grade": false,
     "grade_id": "cell-a1b82be4e2c39f91",
     "locked": true,
     "schema_version": 3,
     "solution": false,
     "task": false
    }
   },
   "outputs": [
    {
     "name": "stdout",
     "output_type": "stream",
     "text": [
      "(5476251, 5)\n"
     ]
    },
    {
     "data": {
      "text/html": [
       "<div>\n",
       "<style scoped>\n",
       "    .dataframe tbody tr th:only-of-type {\n",
       "        vertical-align: middle;\n",
       "    }\n",
       "\n",
       "    .dataframe tbody tr th {\n",
       "        vertical-align: top;\n",
       "    }\n",
       "\n",
       "    .dataframe thead th {\n",
       "        text-align: right;\n",
       "    }\n",
       "</style>\n",
       "<table border=\"1\" class=\"dataframe\">\n",
       "  <thead>\n",
       "    <tr style=\"text-align: right;\">\n",
       "      <th></th>\n",
       "      <th>user_id</th>\n",
       "      <th>item_id</th>\n",
       "      <th>datetime</th>\n",
       "      <th>weight</th>\n",
       "      <th>watched_pct</th>\n",
       "    </tr>\n",
       "  </thead>\n",
       "  <tbody>\n",
       "    <tr>\n",
       "      <th>0</th>\n",
       "      <td>176549</td>\n",
       "      <td>9506</td>\n",
       "      <td>2021-05-11</td>\n",
       "      <td>4250</td>\n",
       "      <td>72.0</td>\n",
       "    </tr>\n",
       "    <tr>\n",
       "      <th>1</th>\n",
       "      <td>699317</td>\n",
       "      <td>1659</td>\n",
       "      <td>2021-05-29</td>\n",
       "      <td>8317</td>\n",
       "      <td>100.0</td>\n",
       "    </tr>\n",
       "    <tr>\n",
       "      <th>2</th>\n",
       "      <td>656683</td>\n",
       "      <td>7107</td>\n",
       "      <td>2021-05-09</td>\n",
       "      <td>10</td>\n",
       "      <td>0.0</td>\n",
       "    </tr>\n",
       "    <tr>\n",
       "      <th>3</th>\n",
       "      <td>864613</td>\n",
       "      <td>7638</td>\n",
       "      <td>2021-07-05</td>\n",
       "      <td>14483</td>\n",
       "      <td>100.0</td>\n",
       "    </tr>\n",
       "    <tr>\n",
       "      <th>4</th>\n",
       "      <td>964868</td>\n",
       "      <td>9506</td>\n",
       "      <td>2021-04-30</td>\n",
       "      <td>6725</td>\n",
       "      <td>100.0</td>\n",
       "    </tr>\n",
       "  </tbody>\n",
       "</table>\n",
       "</div>"
      ],
      "text/plain": [
       "   user_id  item_id   datetime  weight  watched_pct\n",
       "0   176549     9506 2021-05-11    4250         72.0\n",
       "1   699317     1659 2021-05-29    8317        100.0\n",
       "2   656683     7107 2021-05-09      10          0.0\n",
       "3   864613     7638 2021-07-05   14483        100.0\n",
       "4   964868     9506 2021-04-30    6725        100.0"
      ]
     },
     "execution_count": 97,
     "metadata": {},
     "output_type": "execute_result"
    }
   ],
   "source": [
    "interactions = (\n",
    "    pd.read_csv(os.path.join(data_path, \"interactions.csv\"), parse_dates=[\"last_watch_dt\"])\n",
    "    .rename(columns={'total_dur': Columns.Weight,\n",
    "                     'last_watch_dt': Columns.Datetime})\n",
    ")\n",
    "users = pd.read_csv(os.path.join(data_path, \"users.csv\"))\n",
    "items = pd.read_csv(os.path.join(data_path, \"items.csv\"))\n",
    "\n",
    "print(interactions.shape)\n",
    "interactions.head(5)"
   ]
  },
  {
   "cell_type": "code",
   "execution_count": 98,
   "id": "ecfa3e3e-477e-449c-863f-83decd2a608f",
   "metadata": {
    "deletable": false,
    "editable": false,
    "nbgrader": {
     "cell_type": "code",
     "checksum": "769bc3231fc58ab0521798997edea506",
     "grade": false,
     "grade_id": "cell-457223d68ac460f6",
     "locked": true,
     "schema_version": 3,
     "solution": false,
     "task": false
    }
   },
   "outputs": [
    {
     "name": "stdout",
     "output_type": "stream",
     "text": [
      "306752\n",
      "111240\n"
     ]
    }
   ],
   "source": [
    "N_DAYS = 7\n",
    "\n",
    "max_date = interactions['datetime'].max()\n",
    "train = interactions[(interactions['datetime'] <= max_date - pd.Timedelta(days=N_DAYS))]\n",
    "test = interactions[(interactions['datetime'] > max_date - pd.Timedelta(days=N_DAYS))]\n",
    "\n",
    "catalog = train[Columns.Item].unique()\n",
    "\n",
    "test_users = test[Columns.User].unique()\n",
    "cold_users = set(test_users) - set(train[Columns.User])\n",
    "test.drop(test[test[Columns.User].isin(cold_users)].index, inplace=True)\n",
    "hot_users = test[Columns.User].unique()\n",
    "print(test.shape[0])\n",
    "print(test[Columns.User].nunique())"
   ]
  },
  {
   "cell_type": "markdown",
   "id": "bbf27eea-8d75-4c14-9783-c6a3b9e920cc",
   "metadata": {
    "deletable": false,
    "editable": false,
    "nbgrader": {
     "cell_type": "markdown",
     "checksum": "51454adec4613a3a8d59023d713a4777",
     "grade": false,
     "grade_id": "cell-cb516a6d62c42c95",
     "locked": true,
     "schema_version": 3,
     "solution": false,
     "task": false
    }
   },
   "source": [
    "## ImplicitALS (16 баллов)\n",
    "\n",
    "### Ситуация:\n",
    "\n",
    "Коллега вернулся из отпуска и вы вместе сели за улучшение модели. Внимательно изучив репозиторий библиотеки implicit вы увидели модель iALS и решаете попробовать ее в деле.\n",
    "\n",
    "Чтобы работа была интереснее, вы заключаете пари с вашим коллегой о том, кто выбьет больше MAP@K на горячих пользователях. \n",
    "\n",
    "Правила пари: \n",
    "- Валидируемся на последней неделе (переменная `test`) и на горячих пользователях `hot_users`\n",
    "- Можно собрать свой `Dataset` на основе `train`, трансформированного, если нужно\n",
    "- Параметры модели задаются конфигом, которые будут передаваться в `model_from_config`\n",
    "\n",
    "У вашего коллеги получилось выбить на ImplicitALS `MAP@K = 0.052`. Ваша задача побить его рекорд."
   ]
  },
  {
   "cell_type": "code",
   "execution_count": 99,
   "id": "3141278b-cc6e-432a-9d47-fc0bbc2536c9",
   "metadata": {
    "deletable": false,
    "nbgrader": {
     "cell_type": "code",
     "checksum": "5d6c18ce30292ad4d52457e9b60988df",
     "grade": false,
     "grade_id": "cell-143efccf7b17faa0",
     "locked": false,
     "schema_version": 3,
     "solution": true,
     "task": false
    }
   },
   "outputs": [],
   "source": [
    "def get_dataset(train: pd.DataFrame) -> Dataset:\n",
    "    df = (\n",
    "        train\n",
    "        .groupby([Columns.User, Columns.Item])\n",
    "        .agg({\n",
    "            Columns.Weight: \"sum\",\n",
    "            Columns.Datetime: \"max\"\n",
    "        })\n",
    "        .reset_index()\n",
    "    )\n",
    "\n",
    "    df[Columns.Weight] = np.log1p(df[Columns.Weight])\n",
    "\n",
    "    dataset = Dataset.construct(\n",
    "        interactions_df=df[[Columns.User, Columns.Item, Columns.Weight, Columns.Datetime]]\n",
    "    )\n",
    "    # YOUR CODE HERE\n",
    "    return dataset\n",
    "\n",
    "config = {\n",
    "    \"cls\": \"ImplicitALSWrapperModel\",\n",
    "    \"model\": {\n",
    "        \"factors\": 10,               #<\n",
    "        \"regularization\": 0.01,       \n",
    "        \"iterations\": 50,             \n",
    "        \"alpha\": 10,                  \n",
    "        \"use_gpu\": False,            \n",
    "        \"random_state\": 123,           \n",
    "        \"dtype\": \"float32\"           \n",
    "    }\n",
    "}"
   ]
  },
  {
   "cell_type": "code",
   "execution_count": 100,
   "id": "53655cd3-8757-4d0c-a518-eb7ac2fbf703",
   "metadata": {
    "deletable": false,
    "editable": false,
    "nbgrader": {
     "cell_type": "code",
     "checksum": "ff6de2078665d5419f9ba3042ff5d894",
     "grade": true,
     "grade_id": "cell-6c041ad93abfab9a",
     "locked": true,
     "points": 16,
     "schema_version": 3,
     "solution": false,
     "task": false
    }
   },
   "outputs": [
    {
     "name": "stdout",
     "output_type": "stream",
     "text": [
      "0.057148252838149\n",
      "CPU times: user 1min 4s, sys: 1.06 s, total: 1min 5s\n",
      "Wall time: 1min 4s\n"
     ]
    }
   ],
   "source": [
    "%%time\n",
    "model = model_from_config(config)\n",
    "dataset = get_dataset(train.copy())\n",
    "\n",
    "assert config['cls'] == 'ImplicitALSWrapperModel'\n",
    "assert dataset.item_features is None\n",
    "assert dataset.user_features is None\n",
    "raw_df = dataset.get_raw_interactions()\n",
    "intersect = pd.merge(raw_df, test, on = Columns.UserItem)\n",
    "assert intersect.shape[0] == 0\n",
    "assert test.shape[0] == 306752\n",
    "assert test[Columns.User].nunique() == 111240\n",
    "\n",
    "model.fit(dataset)\n",
    "\n",
    "recos = model.recommend(\n",
    "    users=hot_users,\n",
    "    dataset=dataset,\n",
    "    k=10,\n",
    "    filter_viewed=True,\n",
    ")\n",
    "print(MAP(10).calc(recos, test))\n",
    "\n",
    "assert MAP(10).calc(recos, test) >= 0.052"
   ]
  },
  {
   "cell_type": "markdown",
   "id": "efc4444f-df43-40fd-82eb-1490fe875e66",
   "metadata": {
    "deletable": false,
    "editable": false,
    "nbgrader": {
     "cell_type": "markdown",
     "checksum": "90acb0227387e00edec6429536fa0f77",
     "grade": false,
     "grade_id": "cell-0e332207e456475b",
     "locked": true,
     "schema_version": 3,
     "solution": false,
     "task": false
    }
   },
   "source": [
    "## SVD (16 баллов)\n",
    "\n",
    "На ваш громкий спор с коллегой о том, что все дело в вашем удачном random seed, к вам подошел ваш лид. \n",
    "\n",
    "Узнав детали вашего спора, он дает вам комментарий, что iALS хороша, но погружение в матричную факторизацию следует начинать с `SVD`.\n",
    "\n",
    "Вы переглянулись с коллегой и решаете уладить спор о random seed во втором раунде, используя новую модель.\n",
    "\n",
    "Ваш коллега смогу выбить на SVD `MAP@K = 0.066`. Вы знаете, что делать."
   ]
  },
  {
   "cell_type": "code",
   "execution_count": 101,
   "id": "59fa6f21-b0f0-4db1-a277-286b8d918756",
   "metadata": {
    "deletable": false,
    "nbgrader": {
     "cell_type": "code",
     "checksum": "a32ea3cadcc081fe9aa71f2e35b507ca",
     "grade": false,
     "grade_id": "cell-60fb9a3e78564914",
     "locked": false,
     "schema_version": 3,
     "solution": true,
     "task": false
    }
   },
   "outputs": [],
   "source": [
    "def get_dataset(train: pd.DataFrame) -> Dataset:\n",
    "    df = (\n",
    "        train\n",
    "        .groupby([Columns.User, Columns.Item])\n",
    "        .agg({Columns.Weight: \"sum\", Columns.Datetime: \"max\"})\n",
    "        .reset_index()\n",
    "    )\n",
    "    df[Columns.Weight] = np.log1p(df[Columns.Weight])\n",
    "\n",
    "    dataset = Dataset.construct(\n",
    "        interactions_df=df[[Columns.User, Columns.Item, Columns.Weight, Columns.Datetime]]\n",
    "    )\n",
    "\n",
    "    return dataset\n",
    "\n",
    "config = {\n",
    "    'cls': 'PureSVDModel',\n",
    " 'verbose': 0,\n",
    " 'factors': 2, #<\n",
    " 'tol': 0.0,\n",
    " 'maxiter': 40,\n",
    " 'random_state': 0\n",
    "}"
   ]
  },
  {
   "cell_type": "code",
   "execution_count": 102,
   "id": "106c84b8-7093-4194-9b1d-32feedc6eb6e",
   "metadata": {
    "deletable": false,
    "editable": false,
    "nbgrader": {
     "cell_type": "code",
     "checksum": "c8b8de7148e99531d1e9b5ff1eb9f63d",
     "grade": true,
     "grade_id": "cell-db5712d6631f8011",
     "locked": true,
     "points": 16,
     "schema_version": 3,
     "solution": false,
     "task": false
    }
   },
   "outputs": [
    {
     "name": "stdout",
     "output_type": "stream",
     "text": [
      "0.07175820748985508\n",
      "CPU times: user 7.23 s, sys: 827 ms, total: 8.06 s\n",
      "Wall time: 7.82 s\n"
     ]
    }
   ],
   "source": [
    "%%time\n",
    "\n",
    "model = model_from_config(config)\n",
    "dataset = get_dataset(train.copy())\n",
    "\n",
    "assert config['cls'] == 'PureSVDModel'\n",
    "assert dataset.item_features is None\n",
    "assert dataset.user_features is None\n",
    "raw_df = dataset.get_raw_interactions()\n",
    "intersect = pd.merge(raw_df, test, on = Columns.UserItem)\n",
    "assert intersect.shape[0] == 0\n",
    "assert test.shape[0] == 306752\n",
    "assert test[Columns.User].nunique() == 111240\n",
    "\n",
    "model.fit(dataset)\n",
    "\n",
    "recos = model.recommend(\n",
    "    users=hot_users,\n",
    "    dataset=dataset,\n",
    "    k=10,\n",
    "    filter_viewed=True,\n",
    ")\n",
    "\n",
    "print(MAP(10).calc(recos, test))\n",
    "\n",
    "assert MAP(10).calc(recos, test) >= 0.066"
   ]
  },
  {
   "cell_type": "markdown",
   "id": "a15c9a89-3727-4298-8f4c-fdc6c737f444",
   "metadata": {
    "deletable": false,
    "editable": false,
    "nbgrader": {
     "cell_type": "markdown",
     "checksum": "355711b6b2d3602d9935569b6a0c833f",
     "grade": false,
     "grade_id": "cell-27880a79f53a4d38",
     "locked": true,
     "schema_version": 3,
     "solution": false,
     "task": false
    }
   },
   "source": [
    "## Dataset with features (8 баллов)\n",
    "\n",
    "\"Ну это ни в какие ворота!\" - восклицает ваш коллега, увидев ваш победный конфиг. Из другого угла опенспейса доносится \"А я говорил\" от вашего лида.\n",
    "\n",
    "В это время к вам сзади подходит продакт и интересуется предметом вашего спора.\n",
    "\n",
    "Рассказав про особенности найденных вами моделей, он просит вас в них докинуть фичи, ведь на одних взаимодействиях далеко не уедешь.\n",
    "\n",
    "Вы согласились, ведь это отличная возможность продолжить пари. Соберите `Dataset` с фичами по пользователям и итемам, который вы будете использовать дальше\n"
   ]
  },
  {
   "cell_type": "code",
   "execution_count": 103,
   "id": "6cb5a472-1fc2-4fdd-8531-dd26bb4ae651",
   "metadata": {
    "deletable": false,
    "nbgrader": {
     "cell_type": "code",
     "checksum": "aee0667d1be1f8170e90fa8bf7e710a0",
     "grade": false,
     "grade_id": "cell-66bd26ab51f1b594",
     "locked": false,
     "schema_version": 3,
     "solution": true,
     "task": false
    }
   },
   "outputs": [],
   "source": [
    "def get_dataset_with_features(train: pd.DataFrame, users: pd.DataFrame, items: pd.DataFrame) -> Dataset:\n",
    "    # YOUR CODE HERE\n",
    "\n",
    "    train = train.copy()\n",
    "\n",
    "    max_date = train[\"datetime\"].max()\n",
    "    train[\"days_since\"] = (max_date - train[\"datetime\"]).dt.days\n",
    "    train[\"weight\"] = 1 / (1 + train[\"days_since\"].clip(lower=0))  # Защита от деления на 0\n",
    "\n",
    "    # Подготовка фичей пользователей\n",
    "    FEATURES_COLUMNS = [\"age\", \"income\", \"sex\", \"kids_flg\"]\n",
    "    user_features_dfs = []\n",
    "    \n",
    "    for feature in FEATURES_COLUMNS:\n",
    "        feature_df = users[[Columns.User, feature]].copy()\n",
    "        feature_df.columns = [\"id\", \"value\"]\n",
    "        feature_df[\"feature\"] = feature\n",
    "        user_features_dfs.append(feature_df)\n",
    "\n",
    "    user_features_df = pd.concat(user_features_dfs, ignore_index=True)\n",
    "\n",
    "    # Подготовка фичей товаров\n",
    "    items = items.copy()\n",
    "    # Жанры\n",
    "    items[\"genre\"] = items[\"genres\"].str.lower().str.split(\", \")\n",
    "    genre_feature = items[[Columns.Item, \"genre\"]].explode(\"genre\")\n",
    "    genre_feature.columns = [\"id\", \"value\"]\n",
    "    genre_feature[\"feature\"] = \"genre\"\n",
    "    \n",
    "    # Страны\n",
    "    items[\"countries\"] = items[\"countries\"].str.lower().str.split(\", \")\n",
    "    countries_feature = items[[Columns.Item, \"countries\"]].explode(\"countries\")\n",
    "    countries_feature.columns = [\"id\", \"value\"]\n",
    "    countries_feature[\"feature\"] = \"countries\"\n",
    "    \n",
    "    # Тип контента\n",
    "    content_feature = items[[Columns.Item, \"content_type\"]].copy()\n",
    "    content_feature.columns = [\"id\", \"value\"]\n",
    "    content_feature[\"feature\"] = \"content_type\"\n",
    "\n",
    "    items_features_df = pd.concat([content_feature, genre_feature, countries_feature], ignore_index=True)\n",
    "\n",
    "    # Создание датасета\n",
    "    dataset = Dataset.construct(\n",
    "        interactions_df=train,\n",
    "        user_features_df=user_features_df,\n",
    "        item_features_df=items_features_df,\n",
    "        cat_user_features=[\"sex\", \"age\", \"income\", \"kids_flg\"],\n",
    "        cat_item_features=[\"genre\", \"content_type\", \"countries\"]\n",
    "    )\n",
    "    \n",
    "    return dataset"
   ]
  },
  {
   "cell_type": "code",
   "execution_count": 104,
   "id": "3ae33beb-75c5-452e-b765-728da8541f1a",
   "metadata": {
    "deletable": false,
    "editable": false,
    "nbgrader": {
     "cell_type": "code",
     "checksum": "84dc7b5757a099fd618d0850e1f1a883",
     "grade": true,
     "grade_id": "cell-7773b657b67af87b",
     "locked": true,
     "points": 8,
     "schema_version": 3,
     "solution": false,
     "task": false
    }
   },
   "outputs": [],
   "source": [
    "dataset_with_features = get_dataset_with_features(train.copy(), users.copy(), items.copy())\n",
    "\n",
    "assert (dataset_with_features.user_features is not None) and (dataset_with_features.item_features is not None)"
   ]
  },
  {
   "cell_type": "markdown",
   "id": "c816b107-22ed-4d1b-a7dc-c24204918b27",
   "metadata": {
    "deletable": false,
    "editable": false,
    "nbgrader": {
     "cell_type": "markdown",
     "checksum": "7a4e9948f1650397c3855258964bd6e5",
     "grade": false,
     "grade_id": "cell-cd998c54807b4e86",
     "locked": true,
     "schema_version": 3,
     "solution": false,
     "task": false
    }
   },
   "source": [
    "## ImplicitALS with features (20 баллов)\n",
    "\n",
    "Собрав датасет с фичами, вы готовы к третьему раунду пари. \n",
    "\n",
    "Вы решаете начать снова с `iALS`, до сих пор удивляясь результатам модели `SVD`.\n",
    "\n",
    "Ваш коллега изучил вашу технику подбора random seed и хитро улыбается вам.\n",
    "\n",
    "Он смог выбить `MAP@K = 0.073`, теперь ваш ход."
   ]
  },
  {
   "cell_type": "code",
   "execution_count": 105,
   "id": "71a204d4-db2e-4733-8dac-1bac63672ea7",
   "metadata": {
    "deletable": false,
    "nbgrader": {
     "cell_type": "code",
     "checksum": "144544773d8d87abe4ce8de15d21c654",
     "grade": false,
     "grade_id": "cell-651def1b6c1a52b6",
     "locked": false,
     "schema_version": 3,
     "solution": true,
     "task": false
    }
   },
   "outputs": [],
   "source": [
    "config = {\n",
    "    'cls': 'ImplicitALSWrapperModel',\n",
    "    'model': {\n",
    "        'cls': 'AlternatingLeastSquares',\n",
    "        'factors': 30,\n",
    "        'random_state': 42,\n",
    "        'num_threads': 16,\n",
    "    },\n",
    "    'fit_features_together': True  # или False\n",
    "}"
   ]
  },
  {
   "cell_type": "code",
   "execution_count": 106,
   "id": "990ee09f-7c93-4ccf-9ff9-eff9a6d772f1",
   "metadata": {
    "deletable": false,
    "editable": false,
    "nbgrader": {
     "cell_type": "code",
     "checksum": "11be0e3b4ef486b726b68336676c54b3",
     "grade": true,
     "grade_id": "cell-f3ed67874a568322",
     "locked": true,
     "points": 20,
     "schema_version": 3,
     "solution": false,
     "task": false
    }
   },
   "outputs": [
    {
     "name": "stdout",
     "output_type": "stream",
     "text": [
      "0.08116735898314537\n",
      "CPU times: user 8min 34s, sys: 4.8 s, total: 8min 39s\n",
      "Wall time: 8min 20s\n"
     ]
    }
   ],
   "source": [
    "%%time\n",
    "model = model_from_config(config)\n",
    "dataset = get_dataset_with_features(train.copy(), users.copy(), items.copy())\n",
    "\n",
    "assert config['cls'] == 'ImplicitALSWrapperModel'\n",
    "assert dataset.item_features is not None\n",
    "assert dataset.user_features is not None\n",
    "raw_df = dataset.get_raw_interactions()\n",
    "intersect = pd.merge(raw_df, test, on = Columns.UserItem)\n",
    "assert intersect.shape[0] == 0\n",
    "assert test.shape[0] == 306752\n",
    "assert test[Columns.User].nunique() == 111240\n",
    "\n",
    "model.fit(dataset)\n",
    "\n",
    "recos = model.recommend(\n",
    "    users=hot_users,\n",
    "    dataset=dataset,\n",
    "    k=10,\n",
    "    filter_viewed=True,\n",
    ")\n",
    "print(MAP(10).calc(recos, test))\n",
    "\n",
    "assert MAP(10).calc(recos, test) >= 0.073"
   ]
  },
  {
   "cell_type": "markdown",
   "id": "90db2890-cd95-4d87-bcd6-daea1ac3ebaf",
   "metadata": {
    "deletable": false,
    "editable": false,
    "nbgrader": {
     "cell_type": "markdown",
     "checksum": "6ed4a8218939c60d902faed6bf66869a",
     "grade": false,
     "grade_id": "cell-be7c982c198ab7fa",
     "locked": true,
     "schema_version": 3,
     "solution": false,
     "task": false
    }
   },
   "source": [
    "## LightFM with features (20 баллов)\n",
    "\n",
    "И снова ор выше гор, ваш пайплайн подготовки датасета помог вам в очередной раз обойти вашего коллегу.\n",
    "\n",
    "Не зная, к чему еще аппелировать, он зовет вашего лида, чтобы тот внимательно изучил полученные результаты.\n",
    "\n",
    "\"iALS с фичами это хорошо, но тут стоит попробовать факторизационные машины, попробуйте `LightFM`\" - заключает он. Вы переключаетесь на изучение новой библиотеки, предвкушая финальный раунд.\n",
    "\n",
    "Ваш коллега смог выжать из своего обновленного `Dataset` и `LightFM` скор `MAP@10 = 0.08`. Последний рывок."
   ]
  },
  {
   "cell_type": "code",
   "execution_count": 107,
   "id": "354dab72-6e5b-428e-876a-08087f5fb066",
   "metadata": {
    "deletable": false,
    "nbgrader": {
     "cell_type": "code",
     "checksum": "250462bd9fdab63e0078fe14d31911d0",
     "grade": false,
     "grade_id": "cell-cec5f5df8bfd0aca",
     "locked": false,
     "schema_version": 3,
     "solution": true,
     "task": false
    }
   },
   "outputs": [],
   "source": [
    "def get_dataset_with_features(train: pd.DataFrame, users: pd.DataFrame, items: pd.DataFrame) -> Dataset:\n",
    "    # YOUR CODE HERE\n",
    "\n",
    "    train = train.copy()\n",
    "\n",
    "    max_date = train[\"datetime\"].max()\n",
    "    train[\"days_since\"] = (max_date - train[\"datetime\"]).dt.days\n",
    "    train[\"weight\"] = 1 / (1 + train[\"days_since\"].clip(lower=0))  # Защита от деления на 0\n",
    "\n",
    "    # Подготовка фичей пользователей\n",
    "    FEATURES_COLUMNS = [\"age\", \"income\", \"sex\", \"kids_flg\"]\n",
    "    user_features_dfs = []\n",
    "    \n",
    "    for feature in FEATURES_COLUMNS:\n",
    "        feature_df = users[[Columns.User, feature]].copy()\n",
    "        feature_df.columns = [\"id\", \"value\"]\n",
    "        feature_df[\"feature\"] = feature\n",
    "        user_features_dfs.append(feature_df)\n",
    "\n",
    "    user_features_df = pd.concat(user_features_dfs, ignore_index=True)\n",
    "\n",
    "    # Подготовка фичей товаров\n",
    "    items = items.copy()\n",
    "    # Жанры\n",
    "    items[\"genre\"] = items[\"genres\"].str.lower().str.split(\", \")\n",
    "    genre_feature = items[[Columns.Item, \"genre\"]].explode(\"genre\")\n",
    "    genre_feature.columns = [\"id\", \"value\"]\n",
    "    genre_feature[\"feature\"] = \"genre\"\n",
    "    \n",
    "    # Страны\n",
    "    items[\"countries\"] = items[\"countries\"].str.lower().str.split(\", \")\n",
    "    countries_feature = items[[Columns.Item, \"countries\"]].explode(\"countries\")\n",
    "    countries_feature.columns = [\"id\", \"value\"]\n",
    "    countries_feature[\"feature\"] = \"countries\"\n",
    "    \n",
    "    # Тип контента\n",
    "    content_feature = items[[Columns.Item, \"content_type\"]].copy()\n",
    "    content_feature.columns = [\"id\", \"value\"]\n",
    "    content_feature[\"feature\"] = \"content_type\"\n",
    "\n",
    "    items_features_df = pd.concat([content_feature, genre_feature, countries_feature], ignore_index=True)\n",
    "\n",
    "    # Создание датасета\n",
    "    dataset = Dataset.construct(\n",
    "        interactions_df=train,\n",
    "        user_features_df=user_features_df,\n",
    "        item_features_df=items_features_df,\n",
    "        cat_user_features=[\"sex\", \"age\", \"income\", \"kids_flg\"],\n",
    "        cat_item_features=[\"genre\", \"content_type\", \"countries\"]\n",
    "    )\n",
    "    \n",
    "    return dataset\n",
    "\n",
    "config = {\n",
    "    \"cls\": \"LightFMWrapperModel\",\n",
    "    \"model\": {\n",
    "        \"loss\": \"warp\",\n",
    "        \"no_components\": 100,\n",
    "        \"item_alpha\": 0.005,\n",
    "        \"user_alpha\": 0.005,\n",
    "        \"random_state\": 42\n",
    "    },\n",
    "    \"epochs\": 30,\n",
    "    \"num_threads\": 4,\n",
    "    \"recommend_n_threads\": 4\n",
    "}"
   ]
  },
  {
   "cell_type": "code",
   "execution_count": null,
   "id": "77081fd4-13f2-46c7-88d2-e2a716d00216",
   "metadata": {
    "deletable": false,
    "editable": false,
    "nbgrader": {
     "cell_type": "code",
     "checksum": "73dae433c3149c8972b3a861ff76217f",
     "grade": true,
     "grade_id": "cell-754f9152c2a343a5",
     "locked": true,
     "points": 20,
     "schema_version": 3,
     "solution": false,
     "task": false
    }
   },
   "outputs": [],
   "source": [
    "%%time\n",
    "model = model_from_config(config)\n",
    "dataset = get_dataset_with_features(train.copy(), users.copy(), items.copy())\n",
    "\n",
    "assert config['cls'] == 'LightFMWrapperModel'\n",
    "assert dataset.item_features is not None\n",
    "assert dataset.user_features is not None\n",
    "raw_df = dataset.get_raw_interactions()\n",
    "intersect = pd.merge(raw_df, test, on = Columns.UserItem)\n",
    "assert intersect.shape[0] == 0\n",
    "assert test.shape[0] == 306752\n",
    "assert test[Columns.User].nunique() == 111240\n",
    "\n",
    "model.fit(dataset)\n",
    "\n",
    "recos = model.recommend(\n",
    "    users=hot_users,\n",
    "    dataset=dataset,\n",
    "    k=10,\n",
    "    filter_viewed=True,\n",
    ")\n",
    "print(MAP(10).calc(recos, test))\n",
    "\n",
    "assert MAP(10).calc(recos, test) >= 0.08"
   ]
  }
 ],
 "metadata": {
  "kernelspec": {
   "display_name": "Python 3 (ipykernel)",
   "language": "python",
   "name": "python3"
  },
  "language_info": {
   "codemirror_mode": {
    "name": "ipython",
    "version": 3
   },
   "file_extension": ".py",
   "mimetype": "text/x-python",
   "name": "python",
   "nbconvert_exporter": "python",
   "pygments_lexer": "ipython3",
   "version": "3.11.8"
  },
  "widgets": {
   "application/vnd.jupyter.widget-state+json": {
    "state": {},
    "version_major": 2,
    "version_minor": 0
   }
  }
 },
 "nbformat": 4,
 "nbformat_minor": 5
}
